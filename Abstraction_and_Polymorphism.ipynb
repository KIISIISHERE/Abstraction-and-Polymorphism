{
  "nbformat": 4,
  "nbformat_minor": 0,
  "metadata": {
    "colab": {
      "provenance": [],
      "authorship_tag": "ABX9TyNc0lI8814TyCKHuZ84lP/e",
      "include_colab_link": true
    },
    "kernelspec": {
      "name": "python3",
      "display_name": "Python 3"
    },
    "language_info": {
      "name": "python"
    }
  },
  "cells": [
    {
      "cell_type": "markdown",
      "metadata": {
        "id": "view-in-github",
        "colab_type": "text"
      },
      "source": [
        "<a href=\"https://colab.research.google.com/github/KIISIISHERE/Abstraction-and-Polymorphism/blob/main/Abstraction_and_Polymorphism.ipynb\" target=\"_parent\"><img src=\"https://colab.research.google.com/assets/colab-badge.svg\" alt=\"Open In Colab\"/></a>"
      ]
    },
    {
      "cell_type": "code",
      "execution_count": 1,
      "metadata": {
        "colab": {
          "base_uri": "https://localhost:8080/"
        },
        "id": "w_W4pHD12X0p",
        "outputId": "be1d92dd-49a5-4880-a2d4-85c3c01cf1be"
      },
      "outputs": [
        {
          "output_type": "stream",
          "name": "stdout",
          "text": [
            "Enter a value: 2\n",
            "Value entered: 2\n",
            "This is the implementation of the abstract method in the subclass.\n"
          ]
        }
      ],
      "source": [
        "# Activitity 1 : Abstract Class\n",
        "from abc import ABC, abstractmethod\n",
        "class BaseClass(ABC):\n",
        "    def display_value(self, value):\n",
        "        print(f\"Value entered: {value}\")\n",
        "    @abstractmethod\n",
        "    def abstract_method(self):\n",
        "        pass\n",
        "class SubClass(BaseClass):\n",
        "    def abstract_method(self):\n",
        "        print(\"This is the implementation of the abstract method in the subclass.\")\n",
        "user_input = input(\"Enter a value: \")\n",
        "obj = SubClass()\n",
        "obj.display_value(user_input)\n",
        "obj.abstract_method()\n"
      ]
    }
  ]
}